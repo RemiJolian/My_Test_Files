{
  "nbformat": 4,
  "nbformat_minor": 0,
  "metadata": {
    "colab": {
      "provenance": [],
      "authorship_tag": "ABX9TyNh7S/PADMyKeIYoNZYbXSS",
      "include_colab_link": true
    },
    "kernelspec": {
      "name": "python3",
      "display_name": "Python 3"
    },
    "language_info": {
      "name": "python"
    }
  },
  "cells": [
    {
      "cell_type": "markdown",
      "metadata": {
        "id": "view-in-github",
        "colab_type": "text"
      },
      "source": [
        "<a href=\"https://colab.research.google.com/github/RemiJolian/My_Test_Files/blob/master/python_review.ipynb\" target=\"_parent\"><img src=\"https://colab.research.google.com/assets/colab-badge.svg\" alt=\"Open In Colab\"/></a>"
      ]
    },
    {
      "cell_type": "markdown",
      "source": [
        "use %d"
      ],
      "metadata": {
        "id": "j5V-fRkc5wI9"
      }
    },
    {
      "cell_type": "code",
      "execution_count": null,
      "metadata": {
        "colab": {
          "base_uri": "https://localhost:8080/"
        },
        "id": "aLw5SzqrQPSc",
        "outputId": "5b9bf7fc-db19-41b8-ac09-2b515c2b7896"
      },
      "outputs": [
        {
          "output_type": "stream",
          "name": "stdout",
          "text": [
            "I am 23 years old\n"
          ]
        }
      ],
      "source": [
        "a = 23\n",
        "# a = int(23)\n",
        "print('I am %d years old' % (a))"
      ]
    },
    {
      "cell_type": "code",
      "source": [
        "name = 'Keivan'\n",
        "age = 19\n",
        "height = 1.81121121\n",
        "print('%s is %d years old. His height is %.2f m.' % (name, age, height))"
      ],
      "metadata": {
        "colab": {
          "base_uri": "https://localhost:8080/"
        },
        "id": "6F45xeiHwLNA",
        "outputId": "f2286864-7086-415f-a963-6cd86e4572be"
      },
      "execution_count": null,
      "outputs": [
        {
          "output_type": "stream",
          "name": "stdout",
          "text": [
            "Keivan is 19 years old. His height is 1.81 m.\n"
          ]
        }
      ]
    },
    {
      "cell_type": "code",
      "source": [
        "a,b = input().split()\n",
        "a = int(a)\n",
        "b = int(b)\n",
        "print (a,b)"
      ],
      "metadata": {
        "colab": {
          "base_uri": "https://localhost:8080/"
        },
        "id": "Xg5kqyXwzOuJ",
        "outputId": "4ad3d59c-d9d7-4a6b-b238-53b0f86d8528"
      },
      "execution_count": null,
      "outputs": [
        {
          "output_type": "stream",
          "name": "stdout",
          "text": [
            "3 5\n",
            "3 5\n"
          ]
        }
      ]
    },
    {
      "cell_type": "markdown",
      "source": [
        "get some inputs"
      ],
      "metadata": {
        "id": "L8DyUvcY0XwF"
      }
    },
    {
      "cell_type": "code",
      "source": [
        "a,b,c,d = map(int, input().split())\n",
        "print(a,b,c,d)"
      ],
      "metadata": {
        "colab": {
          "base_uri": "https://localhost:8080/"
        },
        "id": "BRmZ6J7d0S1k",
        "outputId": "2eed1e13-2a93-49db-e329-0a697df52699"
      },
      "execution_count": null,
      "outputs": [
        {
          "output_type": "stream",
          "name": "stdout",
          "text": [
            "3 2 2 7\n",
            "3 2 2 7\n"
          ]
        }
      ]
    },
    {
      "cell_type": "code",
      "source": [
        "print(2 * 3 + 4 % 2 + 3 / 2)\n",
        "print(1+2**3*5)\n",
        "print(1//2*2)"
      ],
      "metadata": {
        "colab": {
          "base_uri": "https://localhost:8080/"
        },
        "id": "WjHJBIz-AV2k",
        "outputId": "85cce0b6-1b4a-4009-fae2-00b599c0b18d"
      },
      "execution_count": null,
      "outputs": [
        {
          "output_type": "stream",
          "name": "stdout",
          "text": [
            "7.5\n",
            "41\n",
            "0\n"
          ]
        }
      ]
    },
    {
      "cell_type": "markdown",
      "source": [],
      "metadata": {
        "id": "gfzHA1OrCKy8"
      }
    },
    {
      "cell_type": "code",
      "source": [
        "a = 1 + 2\n",
        "b = 5.0 - 3\n",
        "print('a =', a, 'b =', b)\n",
        "c = a * 2\n",
        "d = c / 2\n",
        "e = c // 2\n",
        "print('a =', a, 'c =', c, 'd =', d, 'e =', e)\n",
        "f = a ** b\n",
        "print('f = ', f)\n",
        "s = t = '12'\n",
        "print('s + t =', s + t, 's * 3 =', s * 3, '4 * t =', 4 * t)"
      ],
      "metadata": {
        "id": "LMHTm9_CCLmP"
      },
      "execution_count": null,
      "outputs": []
    },
    {
      "cell_type": "markdown",
      "source": [
        "ASCII code of Parameters"
      ],
      "metadata": {
        "id": "hNkZCgBMMbgG"
      }
    },
    {
      "cell_type": "code",
      "source": [
        "ch = 'c'\n",
        "print(ord(ch))\n",
        "print(chr(77))"
      ],
      "metadata": {
        "colab": {
          "base_uri": "https://localhost:8080/"
        },
        "id": "-YVfqDoGMZgT",
        "outputId": "902fc2b0-3b6b-4ff2-e648-2c2456dfb708"
      },
      "execution_count": null,
      "outputs": [
        {
          "output_type": "stream",
          "name": "stdout",
          "text": [
            "99\n",
            "M\n"
          ]
        }
      ]
    },
    {
      "cell_type": "code",
      "source": [
        "alpha = input()\n",
        "ch1 = ord(alpha)\n",
        "print('character order is :', ch1-96)\n"
      ],
      "metadata": {
        "colab": {
          "base_uri": "https://localhost:8080/"
        },
        "id": "Of29PzdJRdiq",
        "outputId": "d6f5f07e-983c-42df-a884-598404d8da2d"
      },
      "execution_count": null,
      "outputs": [
        {
          "output_type": "stream",
          "name": "stdout",
          "text": [
            "g\n",
            "character order is : 7\n"
          ]
        }
      ]
    },
    {
      "cell_type": "code",
      "source": [
        "a = float(input())\n",
        "print(int(a))"
      ],
      "metadata": {
        "colab": {
          "base_uri": "https://localhost:8080/"
        },
        "id": "69Q75VCvXfEt",
        "outputId": "5d2a167c-d8ea-481b-bd3f-bc8054647a21"
      },
      "execution_count": null,
      "outputs": [
        {
          "output_type": "stream",
          "name": "stdout",
          "text": [
            "3.0\n",
            "3\n"
          ]
        }
      ]
    },
    {
      "cell_type": "code",
      "source": [
        "import math\n",
        "x = float(input())\n",
        "g = math.floor(x)\n",
        "print(g)"
      ],
      "metadata": {
        "colab": {
          "base_uri": "https://localhost:8080/"
        },
        "id": "6hhe6UyeZ44Y",
        "outputId": "c2df6adf-78aa-4dfa-fe98-dcf8e2579f97"
      },
      "execution_count": null,
      "outputs": [
        {
          "output_type": "stream",
          "name": "stdout",
          "text": [
            "3.2\n",
            "3\n"
          ]
        }
      ]
    },
    {
      "cell_type": "code",
      "source": [
        "a = int(input()) \n",
        "print(int((a != 0) == (not not a)))"
      ],
      "metadata": {
        "colab": {
          "base_uri": "https://localhost:8080/"
        },
        "id": "0c7RS8Ynit5f",
        "outputId": "fbfbdbdf-eaab-40b6-cb81-d1c1b4b53d82"
      },
      "execution_count": null,
      "outputs": [
        {
          "output_type": "stream",
          "name": "stdout",
          "text": [
            "87\n",
            "1\n"
          ]
        }
      ]
    },
    {
      "cell_type": "code",
      "source": [
        "num1 = int(input())\n",
        "num2 = int(input())\n",
        "c = 0\n",
        "sum = 2 * (num1 + num2)\n",
        "mul = 0\n",
        "mul = num1 * num2\n",
        "print(sum, mul)\n"
      ],
      "metadata": {
        "colab": {
          "base_uri": "https://localhost:8080/"
        },
        "id": "-Tj5ELiSk6cr",
        "outputId": "e1639154-e8da-44af-c83c-a4e3a0291e4c"
      },
      "execution_count": null,
      "outputs": [
        {
          "output_type": "stream",
          "name": "stdout",
          "text": [
            "4\n",
            "7\n",
            "22 28\n"
          ]
        }
      ]
    },
    {
      "cell_type": "markdown",
      "source": [
        "input three numbers 'a', 'b' and 'c'\n",
        "then output 'max' as their maximum\n",
        "------------------------------------\n",
        "1. max <- a\n",
        "2. max <- (b + max + |b - max|) / 2\n",
        "3. max <- (c + max + |c - max|) / 2\n",
        "4. output max"
      ],
      "metadata": {
        "id": "lQ2sv31OpZXv"
      }
    },
    {
      "cell_type": "code",
      "source": [
        "print(max(3,5,1,8))\n"
      ],
      "metadata": {
        "colab": {
          "base_uri": "https://localhost:8080/"
        },
        "id": "3Kx3tH33pfoF",
        "outputId": "4b79ce4c-6e0c-4f61-cc72-3772d1a4d73d"
      },
      "execution_count": null,
      "outputs": [
        {
          "output_type": "stream",
          "name": "stdout",
          "text": [
            "8\n"
          ]
        }
      ]
    },
    {
      "cell_type": "code",
      "source": [
        "m1, m2, m3, m4, m5, m6 = input().split()\n",
        "print(1-int(m1), 1-int(m2),2-int(m3), 2-int(m4), 2-int(m5),8 -int(m6))\n"
      ],
      "metadata": {
        "colab": {
          "base_uri": "https://localhost:8080/"
        },
        "id": "JOjIAH1GtYt6",
        "outputId": "f92a4124-3ff6-4247-cc09-75382186b6a1"
      },
      "execution_count": null,
      "outputs": [
        {
          "output_type": "stream",
          "name": "stdout",
          "text": [
            "5 5 6 9 8 7\n",
            "-4 -4 -4 -7 -6 1\n"
          ]
        }
      ]
    },
    {
      "cell_type": "code",
      "source": [
        "shah, vazir, rokh, fil, asb, sarbaz = map(int, input().split())\n",
        "print( 1 - shah, 1 - vazir, 2 - rokh, 2 - fil, 2 - asb, 8 - sarbaz )"
      ],
      "metadata": {
        "colab": {
          "base_uri": "https://localhost:8080/"
        },
        "id": "r_3VVEqdyrhs",
        "outputId": "232cda5d-aa5b-49c1-a298-124f03168ea2"
      },
      "execution_count": null,
      "outputs": [
        {
          "output_type": "stream",
          "name": "stdout",
          "text": [
            "2 5 3 6 9 8\n",
            "-1 -4 -1 -4 -7 0\n"
          ]
        }
      ]
    },
    {
      "cell_type": "markdown",
      "source": [
        "bishtarin taqsim ba n khat dar zamin moraba shekl"
      ],
      "metadata": {
        "id": "mm01sEbnXpg-"
      }
    },
    {
      "cell_type": "code",
      "source": [
        "n = int(input())\n",
        "if n % 2 == 0:\n",
        "  k = (n//2 + 1) ** 2\n",
        "  print (k)\n",
        "else:\n",
        "  k = (n//2) + 1\n",
        "  print(k * (k+1))"
      ],
      "metadata": {
        "colab": {
          "base_uri": "https://localhost:8080/"
        },
        "id": "z0sPOPSKTNDY",
        "outputId": "69aceb4f-fe22-4e18-f7fe-073386b09c3a"
      },
      "execution_count": null,
      "outputs": [
        {
          "output_type": "stream",
          "name": "stdout",
          "text": [
            "9\n",
            "30\n"
          ]
        }
      ]
    },
    {
      "cell_type": "code",
      "source": [],
      "metadata": {
        "id": "tQV_lD03Xn_M"
      },
      "execution_count": null,
      "outputs": []
    },
    {
      "cell_type": "code",
      "source": [
        "n=input()\n",
        "n=int(n)\n",
        "k=n//2+1\n",
        "m=n//2+n%2+1\n",
        "print(k*m)"
      ],
      "metadata": {
        "colab": {
          "base_uri": "https://localhost:8080/"
        },
        "id": "OcuTu9IKXx3_",
        "outputId": "0141ba0c-44cd-4505-da25-881d6233d0d8"
      },
      "execution_count": null,
      "outputs": [
        {
          "output_type": "stream",
          "name": "stdout",
          "text": [
            "9\n",
            "30\n"
          ]
        }
      ]
    },
    {
      "cell_type": "code",
      "source": [
        "roads = int(input())\n",
        "max_of_pieces = ((roads / 2) + 1) ** 2 \n",
        "print(int(max_of_pieces))"
      ],
      "metadata": {
        "colab": {
          "base_uri": "https://localhost:8080/"
        },
        "id": "XM7KNSoUeUWQ",
        "outputId": "a45ff471-7b40-4506-a993-593456508e0c"
      },
      "execution_count": null,
      "outputs": [
        {
          "output_type": "stream",
          "name": "stdout",
          "text": [
            "1\n",
            "2\n"
          ]
        }
      ]
    },
    {
      "cell_type": "code",
      "source": [
        "print((5/2+1)**2)"
      ],
      "metadata": {
        "colab": {
          "base_uri": "https://localhost:8080/"
        },
        "id": "OMB4yDEMfAbQ",
        "outputId": "763bf357-b4e2-492b-fad1-fc3709d894aa"
      },
      "execution_count": null,
      "outputs": [
        {
          "output_type": "stream",
          "name": "stdout",
          "text": [
            "12.25\n"
          ]
        }
      ]
    },
    {
      "cell_type": "code",
      "source": [
        "\n",
        "num1 = int(input())\n",
        "num2 = int(input())\n",
        "num3 = int(input())\n",
        "num4 = int(input())\n",
        "\n",
        "s = num1 + num2 + num3 + num4\n",
        "ave = s/4\n",
        "mul = num1 * num2 * num3 * num4\n",
        "max_nums = max(num1, num2, num3, num4)\n",
        "min_nums = min(num1, num2, num3, num4)\n",
        "\n",
        "print(s)\n",
        "print(ave)\n",
        "print(mul)\n",
        "print(max_nums)\n",
        "print(min_nums)"
      ],
      "metadata": {
        "colab": {
          "base_uri": "https://localhost:8080/"
        },
        "id": "PmWcu3Z5hmeU",
        "outputId": "0431cc65-7f06-4f10-bd7d-d44622bbe1be"
      },
      "execution_count": null,
      "outputs": [
        {
          "output_type": "stream",
          "name": "stdout",
          "text": [
            "5\n",
            "6\n",
            "8\n",
            "9\n",
            "28\n",
            "7.0\n",
            "2160\n",
            "9\n",
            "5\n"
          ]
        }
      ]
    },
    {
      "cell_type": "markdown",
      "source": [
        "exam some data with desimal regit"
      ],
      "metadata": {
        "id": "FtScRqERLQw0"
      }
    },
    {
      "cell_type": "code",
      "source": [
        "num1 = int(input())\n",
        "num2 = int(input())\n",
        "num3 = int(input())\n",
        "num4 = int(input())\n",
        "\n",
        "s = num1 + num2 + num3 + num4\n",
        "ave = s/4\n",
        "mul = num1 * num2 * num3 * num4\n",
        "max_nums = max(num1, num2, num3, num4)\n",
        "min_nums = min(num1, num2, num3, num4)\n",
        "\n",
        "print('Sum : %.6f  ' % s)\n",
        "print('Average : %.6f ' % ave)\n",
        "print('Product : %.6f' % mul)\n",
        "print('Max : %6f ' % max_nums)\n",
        "print('Min : %6f ' % min_nums)"
      ],
      "metadata": {
        "id": "DDe00bjCLVs4"
      },
      "execution_count": null,
      "outputs": []
    },
    {
      "cell_type": "code",
      "source": [
        "a = int(input())\n",
        "b = int(input())\n",
        "c = int(input())\n",
        "d = int(input())\n",
        "\n",
        "sum = (a + b + c + d)\n",
        "avg = (a + b + c + d) / 4\n",
        "pro = (a * b * c * d)\n",
        "max = max(a, b, c, d)\n",
        "min = min(a, b, c, d)\n",
        "\n",
        "print('Sum : %.6f' % (sum))\n",
        "print('Average : %.6f' % (avg))\n",
        "print('Product : %.6f' % (pro))\n",
        "print('Max : %.6f' % (max))\n",
        "print('Min : %.6f' % (min))"
      ],
      "metadata": {
        "id": "CgMMaqAAMxLF"
      },
      "execution_count": null,
      "outputs": []
    },
    {
      "cell_type": "code",
      "source": [
        "num = 9\n",
        "\n",
        "# Method 1:\n",
        "print(\"{:0>6d}\".format(num))\n",
        "\n",
        "# Method 2:\n",
        "print(f\"{num:02d}\")"
      ],
      "metadata": {
        "colab": {
          "base_uri": "https://localhost:8080/"
        },
        "id": "R_Eng5gfQHir",
        "outputId": "e066a950-0b70-4d82-c320-9f3fe2c1d66c"
      },
      "execution_count": null,
      "outputs": [
        {
          "output_type": "stream",
          "name": "stdout",
          "text": [
            "000009\n",
            "09\n"
          ]
        }
      ]
    },
    {
      "cell_type": "code",
      "source": [
        "print(abs(-3))"
      ],
      "metadata": {
        "colab": {
          "base_uri": "https://localhost:8080/"
        },
        "id": "zSUPvb9TW6mf",
        "outputId": "c851e851-efc7-4025-b0f7-539b95fc01e1"
      },
      "execution_count": null,
      "outputs": [
        {
          "output_type": "stream",
          "name": "stdout",
          "text": [
            "3\n"
          ]
        }
      ]
    },
    {
      "cell_type": "markdown",
      "source": [
        "mr bagher and mr.khoshqalb and clock and mirror problem"
      ],
      "metadata": {
        "id": "GDfQBhQpduCl"
      }
    },
    {
      "cell_type": "code",
      "source": [
        "a , b = input().split()\n",
        "a = int(a)\n",
        "b = int(b)\n",
        "if a == 0:\n",
        "    hh = 0\n",
        "else:\n",
        "    hh = 12 - int(a)\n",
        "if b == 0:\n",
        "    mm = 0\n",
        "else:\n",
        "    mm = 60 - int(b)\n",
        "print(f\"{hh:02d}:{mm:02d}\")"
      ],
      "metadata": {
        "colab": {
          "base_uri": "https://localhost:8080/"
        },
        "id": "-x5P-A-zakY3",
        "outputId": "6935c4a8-eccc-46c8-fe5a-b65f442aff9d"
      },
      "execution_count": null,
      "outputs": [
        {
          "output_type": "stream",
          "name": "stdout",
          "text": [
            "0 0\n",
            "00:00\n"
          ]
        }
      ]
    },
    {
      "cell_type": "code",
      "source": [
        "hour, minute = map(int,input().split())\n",
        "hour = 12 - hour\n",
        "minute = 60 - minute \n",
        "if hour == 12 :\n",
        "\thour = 0\n",
        "if minute == 60:\n",
        "\tminute = 0\n",
        "print('%02d:%02d'%(hour,minute))\n"
      ],
      "metadata": {
        "id": "tECpaHQJdU9W"
      },
      "execution_count": null,
      "outputs": []
    },
    {
      "cell_type": "code",
      "source": [
        "time = str(input()).split(' ')\n",
        "reversed_hour = time[0]\n",
        "reversed_min = time[1]\n",
        "\n",
        "correct_hour = (12 - int(reversed_hour)) % 12\n",
        "correct_min = (60 - int(reversed_min)) % 60\n",
        "\n",
        "print(f\"{correct_hour:02d}:{correct_min:02d}\")\n",
        "\n",
        "\n"
      ],
      "metadata": {
        "colab": {
          "base_uri": "https://localhost:8080/"
        },
        "id": "yt2vIEwrfAIj",
        "outputId": "43cd1170-c43f-458d-92f5-897d75a057a6"
      },
      "execution_count": null,
      "outputs": [
        {
          "output_type": "stream",
          "name": "stdout",
          "text": [
            "5 5\n",
            "07:55\n"
          ]
        }
      ]
    },
    {
      "cell_type": "markdown",
      "source": [
        "best answer:"
      ],
      "metadata": {
        "id": "Ttex6klwpgzr"
      }
    },
    {
      "cell_type": "code",
      "source": [
        "a, b = input().split()\n",
        "a = int(a)\n",
        "b = int(b)\n",
        "print(\"%02d:%02d\" % ((12 - a) % 12, (60 - b) % 60))\n",
        "\n"
      ],
      "metadata": {
        "id": "8oyhNAzNpe3K"
      },
      "execution_count": null,
      "outputs": []
    },
    {
      "cell_type": "markdown",
      "source": [
        "sort of 3 num:"
      ],
      "metadata": {
        "id": "GR8VQNHVuSOs"
      }
    },
    {
      "cell_type": "code",
      "source": [
        "a, b , c = 6,6,5\n",
        "if a > b :\n",
        "    a , b = b , a\n",
        "if b > c :\n",
        "    b , c = c , b\n",
        "if a > b :\n",
        "    a , b = b , a\n",
        "print(a , b , c)"
      ],
      "metadata": {
        "id": "2wnKeUqSuU0j"
      },
      "execution_count": null,
      "outputs": []
    },
    {
      "cell_type": "markdown",
      "source": [
        "compare 2 num:"
      ],
      "metadata": {
        "id": "AWANKMa6xt00"
      }
    },
    {
      "cell_type": "code",
      "source": [
        "a = int(input())\n",
        "b = int(input())\n",
        "if a > b :\n",
        "    print(\"first one\")\n",
        "elif a <b :\n",
        "    print(\"second one\")\n",
        "else:\n",
        "    print(\"equal\")"
      ],
      "metadata": {
        "colab": {
          "base_uri": "https://localhost:8080/"
        },
        "id": "Q1rnt0c4xLrG",
        "outputId": "16a9e579-29e5-4abc-cec9-4386f3cd8de7"
      },
      "execution_count": null,
      "outputs": [
        {
          "output_type": "stream",
          "name": "stdout",
          "text": [
            "7\n",
            "7\n",
            "equal\n"
          ]
        }
      ]
    },
    {
      "cell_type": "markdown",
      "source": [
        "\"pass\" syntax, means nothing to do:\n"
      ],
      "metadata": {
        "id": "ryrZBcfey6iP"
      }
    },
    {
      "cell_type": "code",
      "source": [
        "a = int(input())\n",
        "if 0 <= a <10:\n",
        "    pass\n",
        "else:\n",
        "    print(\"hoora\")"
      ],
      "metadata": {
        "colab": {
          "base_uri": "https://localhost:8080/"
        },
        "id": "1oE9JUSrzDEO",
        "outputId": "228aa59f-b592-4c6b-c58f-7dd8124988e5"
      },
      "execution_count": null,
      "outputs": [
        {
          "output_type": "stream",
          "name": "stdout",
          "text": [
            "22\n",
            "hoora\n"
          ]
        }
      ]
    },
    {
      "cell_type": "markdown",
      "source": [
        "or:\n"
      ],
      "metadata": {
        "id": "aNbkzldPzLSg"
      }
    },
    {
      "cell_type": "code",
      "source": [
        "a = int(input())\n",
        "if not 0 <= a <10:\n",
        "    print(\"hoora\")"
      ],
      "metadata": {
        "id": "oh4AcDlDzM-W"
      },
      "execution_count": null,
      "outputs": []
    },
    {
      "cell_type": "code",
      "source": [
        "t = int(input())\n",
        "\n",
        "if t > 100:\n",
        "    print('Stream')\n",
        "elif 0 <= t <=100:\n",
        "    print('Water')\n",
        "else:\n",
        "    print('Ice')"
      ],
      "metadata": {
        "id": "00ftrTFh1K7Y"
      },
      "execution_count": null,
      "outputs": []
    },
    {
      "cell_type": "markdown",
      "source": [
        "OR , and , ... conditions:"
      ],
      "metadata": {
        "id": "qeFbzCmkDrLk"
      }
    },
    {
      "cell_type": "code",
      "source": [
        "if True and False:\n",
        "    print(\"1\")\n",
        "if True or False:\n",
        "    print(\"2\")\n",
        "if True or (True and False) :\n",
        "    print(\"3\")\n",
        "if False and (True or False) :\n",
        "    print(\"4\")"
      ],
      "metadata": {
        "id": "fz5NJ-luDo5i"
      },
      "execution_count": null,
      "outputs": []
    },
    {
      "cell_type": "code",
      "source": [
        "a = True\n",
        "b = False\n",
        "print(a and b)\n",
        "print(a or b)\n",
        "print(not b)"
      ],
      "metadata": {
        "id": "CTWaczkJEHig"
      },
      "execution_count": null,
      "outputs": []
    },
    {
      "cell_type": "code",
      "source": [
        "a = 1\n",
        "b = 3\n",
        "print(b and a)"
      ],
      "metadata": {
        "colab": {
          "base_uri": "https://localhost:8080/"
        },
        "id": "vXfP4ot5FBEq",
        "outputId": "9539572c-8cc8-42e5-c2d7-b3f96610772b"
      },
      "execution_count": null,
      "outputs": [
        {
          "output_type": "stream",
          "name": "stdout",
          "text": [
            "1\n"
          ]
        }
      ]
    },
    {
      "cell_type": "code",
      "source": [
        "A = int(input())\n",
        "B = int(input())\n",
        "C = int(input())\n",
        "\n",
        "if A%2 == 0 or (B%2 == 0 and C%2 == 0):\n",
        "    print('good')\n",
        "else:\n",
        "    prinr('bad')"
      ],
      "metadata": {
        "colab": {
          "base_uri": "https://localhost:8080/"
        },
        "id": "65KP-xrVzqE0",
        "outputId": "5a1cafb9-1a8f-4195-f0b3-06488cf16d65"
      },
      "execution_count": null,
      "outputs": [
        {
          "output_type": "stream",
          "name": "stdout",
          "text": [
            "2\n",
            "3\n",
            "4\n",
            "good\n"
          ]
        }
      ]
    },
    {
      "cell_type": "code",
      "source": [
        "a = 475\n",
        "a1 = a // 100          # 4\n",
        "a2 = (a % 100) // 10   # 7\n",
        "a3 = (a % 100) % 10    # 5\n",
        "\n",
        "x = a3*100 + a2*10 + a1\n",
        "print(a1,a2,a3,x)\n"
      ],
      "metadata": {
        "colab": {
          "base_uri": "https://localhost:8080/"
        },
        "id": "-tn7Px592xcG",
        "outputId": "d1e1db05-84ff-4c81-9ef1-df8129632979"
      },
      "execution_count": null,
      "outputs": [
        {
          "output_type": "stream",
          "name": "stdout",
          "text": [
            "4 7 5 574\n"
          ]
        }
      ]
    },
    {
      "cell_type": "code",
      "source": [
        "a = int(input())\n",
        "b = int(input())\n",
        "\n",
        "a1 = a // 100          \n",
        "a2 = (a % 100) // 10   \n",
        "a3 = (a % 100) % 10    \n",
        "x = a3*100 + a2*10 + a1\n",
        "# print(x)\n",
        "\n",
        "b1 = b // 100          \n",
        "b2 = (b % 100) // 10   \n",
        "b3 = (b % 100) % 10    \n",
        "y = b3*100 + b2*10 + b1\n",
        "# print(y)\n",
        "\n",
        "\n",
        "if x > y:\n",
        "    print(b , '<', a)\n",
        "elif y > x:\n",
        "    print(a, '<', b)\n",
        "else:\n",
        "    Print(a ,'=', b)"
      ],
      "metadata": {
        "colab": {
          "base_uri": "https://localhost:8080/"
        },
        "id": "nu78SPC9CpG3",
        "outputId": "183f56d2-6453-4675-ccbe-9801d0369781"
      },
      "execution_count": null,
      "outputs": [
        {
          "output_type": "stream",
          "name": "stdout",
          "text": [
            "214\n",
            "654\n",
            "214 < 654\n"
          ]
        }
      ]
    },
    {
      "cell_type": "code",
      "source": [
        "a = int(input())\n",
        "b = int(input())\n",
        "rev_a = a//100 + ((a//10)%10) * 10 + (a%10)* 100\n",
        "rev_b = b//100 + ((b//10)%10) * 10 + (b%10)* 100\n",
        "if rev_a < rev_b:\n",
        "    print(a,'<',b)\n",
        "elif rev_a > rev_b:\n",
        "    print(b,'<',a)\n",
        "else:\n",
        "    print(a,'=',b)\n"
      ],
      "metadata": {
        "id": "KV26B4twH-Zf"
      },
      "execution_count": null,
      "outputs": []
    },
    {
      "cell_type": "markdown",
      "source": [
        "calculate 4th corner of rectangle:\n"
      ],
      "metadata": {
        "id": "M4vkjf_Gdh2G"
      }
    },
    {
      "cell_type": "code",
      "source": [
        "x1 , y1 = map(int,input().split())\n",
        "x2 , y2 = map(int,input().split())\n",
        "x3 , y3 = map(int,input().split())\n",
        "\n",
        "if (x1 != x2) and (x1 != x3):\n",
        "    x4 = x1\n",
        "elif (x2 != x1) and (x2 != x3):\n",
        "    x4 = x2\n",
        "else:\n",
        "    x4 = x3\n",
        "if (y1 != y2) and (y1 != y3):\n",
        "    y4 = y1\n",
        "elif (y2 != y1) and (y2 != y3):\n",
        "    y4 = y2\n",
        "else:\n",
        "    y4 = y3\n",
        "print(x4,y4)"
      ],
      "metadata": {
        "id": "jgDS0Ce2d4Tn"
      },
      "execution_count": null,
      "outputs": []
    },
    {
      "cell_type": "markdown",
      "source": [
        "max of 4 num:"
      ],
      "metadata": {
        "id": "1ljyxqzFgoDD"
      }
    },
    {
      "cell_type": "code",
      "source": [
        "a = int(input())\n",
        "b = int(input())\n",
        "c = int(input())\n",
        "d = int(input())\n",
        "\n",
        "#print(max(a,b,c,d))\n",
        "\n",
        "if a >= b and a >= c and a >= d:\n",
        "    print(a)\n",
        "elif b >= a and b >= c and b >= d:\n",
        "    print(b)\n",
        "elif c >= a and c >= b and c >= d:\n",
        "    print(c)\n",
        "else:\n",
        "    print(d)"
      ],
      "metadata": {
        "colab": {
          "base_uri": "https://localhost:8080/"
        },
        "id": "QALMrWTFgqL9",
        "outputId": "f1c0c3f9-3589-407f-9547-25700b2f32e5"
      },
      "execution_count": null,
      "outputs": [
        {
          "output_type": "stream",
          "name": "stdout",
          "text": [
            "3\n",
            "3\n",
            "2\n",
            "2\n",
            "3\n"
          ]
        }
      ]
    },
    {
      "cell_type": "markdown",
      "source": [
        "Liteh & Fiteh:"
      ],
      "metadata": {
        "id": "RFUD-CZPYZId"
      }
    },
    {
      "cell_type": "code",
      "source": [
        "a, b, c, d, e = input()\n",
        "\n",
        "R = 0\n",
        "G = 0\n",
        "Y = 0\n",
        "\n",
        "if a == 'G':\n",
        "    G = G + 1\n",
        "elif a == 'Y':\n",
        "    Y = Y + 1\n",
        "elif a == 'R':\n",
        "    R = R + 1\n",
        "# -------------------------------\n",
        "if b == 'G':\n",
        "    G = G + 1\n",
        "elif b == 'Y':\n",
        "    Y = Y + 1\n",
        "elif b == 'R':\n",
        "    R = R + 1\n",
        "# -------------------------------\n",
        "if d == 'G':\n",
        "    G = G + 1\n",
        "elif d == 'Y':\n",
        "    Y = Y + 1\n",
        "elif d == 'R':\n",
        "    R = R + 1\n",
        "#--------------------------------\n",
        "if c == 'G':\n",
        "    G = G + 1\n",
        "elif c == 'Y':\n",
        "    Y = Y + 1\n",
        "elif c == 'R':\n",
        "    R = R + 1\n",
        "#--------------------------------\n",
        "if e == 'G':\n",
        "    G = G + 1\n",
        "elif e == 'Y':\n",
        "    Y = Y + 1\n",
        "elif e == 'R':\n",
        "    R = R + 1\n",
        "#---------------------------------\n",
        "#---------------------------------\n",
        "if R >= 3 or (R >= 2 and Y >= 2) or Y == 5 or G == 0:\n",
        "    print('nakhor lite')\n",
        "else:\n",
        "    print('rahat baash')\n",
        "print (R,Y,G)"
      ],
      "metadata": {
        "colab": {
          "base_uri": "https://localhost:8080/"
        },
        "id": "O7Hb6tTo2P4n",
        "outputId": "23aac410-1f26-4809-def6-3d4f16fac3c6"
      },
      "execution_count": null,
      "outputs": [
        {
          "output_type": "stream",
          "name": "stdout",
          "text": [
            "uuuuu\n",
            "nakhor lite\n",
            "0 0 0\n"
          ]
        }
      ]
    }
  ]
}